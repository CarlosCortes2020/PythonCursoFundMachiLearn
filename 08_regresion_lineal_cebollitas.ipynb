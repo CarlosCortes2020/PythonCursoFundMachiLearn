{
 "cells": [
  {
   "cell_type": "code",
   "execution_count": 1,
   "id": "153b7d6e",
   "metadata": {},
   "outputs": [],
   "source": [
    "import pandas as pd\n",
    "from sklearn.model_selection import train_test_split\n",
    "\n",
    "#Cargar dataset original\n",
    "df_partidos = pd.read_csv(\"partidos_cebollitas.csv\")\n",
    "\n",
    "#Crear variable objetivo\n",
    "df_partidos['diferencia_goles'] = df_partidos['goles_local'] - df_partidos['goles_visitante']\n",
    "\n",
    "#Variables predictoras\n",
    "X = df_partidos[['posesion_local (%)', 'tiros_arco_local']]\n",
    "y = df_partidos['diferencia_goles']\n",
    "\n",
    "#Division estandar: 80% entrenamiento, 20% test\n",
    "X_train, X_test, y_train, y_test = train_test_split(X, y, test_size=0.2, random_state=42)\n"
   ]
  },
  {
   "cell_type": "code",
   "execution_count": 2,
   "id": "54aa418f",
   "metadata": {},
   "outputs": [
    {
     "name": "stdout",
     "output_type": "stream",
     "text": [
      "Coeficientes del modelo: [ 0.05596278 -0.05125811]\n",
      "Intercepto del modelo: -2.5257192572329763\n",
      "Precisión del modelo en el conjunto de entrenamiento: 0.020655231654285178\n",
      "Precisión del modelo en el conjunto de prueba: -0.027825140920001656\n",
      "Predicciones en el conjunto de prueba: [-0.04924273  0.67827347  0.0161294   0.30535267 -0.26368452  0.47324103\n",
      " -0.57123319 -0.03983338 -0.09579616 -0.11882624 -0.48283098  0.18872243\n",
      " -0.43627754 -0.57123319 -0.01631002  0.02553875 -0.47812631 -0.12823558\n",
      "  0.09561555 -0.74382621]\n",
      "Predicciones en el conjunto de entrenamiento: [ 0.02083408  0.0349481   0.23527587  0.17931308  0.3707248  -0.45930762\n",
      "  0.30535267  0.40316422 -0.63190064 -0.12823558  0.01142473 -0.51997508\n",
      " -0.38031476 -0.30553328 -0.1423496   0.42198291 -0.32435197 -0.73912154\n",
      " -0.62719597 -0.1794937   0.45912701 -0.37090541  0.35190611 -0.1794937\n",
      "  0.03024342  0.15157834  0.21224579  0.08620621  0.13746432 -0.20301706\n",
      " -0.26838919  0.51038512 -0.51997508 -0.12823558  0.3707248   0.51508979\n",
      "  0.01142473 -0.21713108  0.51508979 -0.48753566 -0.54349844 -0.25897984\n",
      " -0.67845408 -0.6925681  -0.63190064  0.21695047 -0.01160534  0.0161294\n",
      " -0.44098222  0.51508979  0.02553875 -0.52467975 -0.68786343 -0.16116829\n",
      "  0.25879923 -0.23545648 -0.12823558  0.10032023 -0.20772173  0.15628301\n",
      " -0.36620074  0.47324103  0.10032023 -0.46401229  0.21695047 -0.06756813\n",
      "  0.08150153  0.03965277 -0.10520551 -0.18419837  0.40316422 -0.40334483\n",
      " -0.39864016 -0.63660532 -0.45930762 -0.43627754 -0.32435197  0.07679686\n",
      " -0.08168215 -0.0722728 ]\n",
      "Datos de entrenamiento: (80, 2) (80,)\n",
      "Datos de prueba: (20, 2) (20,)\n",
      "Modelo entrenado exitosamente\n"
     ]
    }
   ],
   "source": [
    "from sklearn.linear_model import LinearRegression\n",
    "\n",
    "#Instanciar y entrenar modelo\n",
    "modelo_rl = LinearRegression()\n",
    "modelo_rl.fit(X_train, y_train)\n",
    "\n",
    "print(\"Coeficientes del modelo:\", modelo_rl.coef_)\n",
    "print(\"Intercepto del modelo:\", modelo_rl.intercept_)\n",
    "print(\"Precisión del modelo en el conjunto de entrenamiento:\", modelo_rl.score(X_train, y_train))\n",
    "print(\"Precisión del modelo en el conjunto de prueba:\", modelo_rl.score(X_test, y_test))\n",
    "print(\"Predicciones en el conjunto de prueba:\", modelo_rl.predict(X_test))\n",
    "print(\"Predicciones en el conjunto de entrenamiento:\", modelo_rl.predict(X_train))\n",
    "print(\"Datos de entrenamiento:\", X_train.shape, y_train.shape)\n",
    "print(\"Datos de prueba:\", X_test.shape, y_test.shape)\n",
    "print(\"Modelo entrenado exitosamente\")\n"
   ]
  },
  {
   "cell_type": "code",
   "execution_count": 4,
   "id": "aaacf4b2",
   "metadata": {},
   "outputs": [
    {
     "name": "stdout",
     "output_type": "stream",
     "text": [
      "Coeficientes del modelo : [ 0.05596278 -0.05125811]\n",
      "Intercepto del modelo: -2.5257192572329763\n",
      "Si aumentamos 1 unidad en posesion_local (%), la diferencia de goles cambia en promedio 0.06\n",
      "Si aumentamos 1 unidad en tiros_arco_local, la diferencia de goles cambia en promedio -0.05\n"
     ]
    }
   ],
   "source": [
    "#Mostrar coeficientes e intercepto\n",
    "print(\"Coeficientes del modelo :\", modelo_rl.coef_)\n",
    "print(\"Intercepto del modelo:\", modelo_rl.intercept_)\n",
    "\n",
    "#Interpretacion amigable\n",
    "for idx, col_name in enumerate(X.columns):\n",
    "    print(f\"Si aumentamos 1 unidad en {col_name}, la diferencia de goles cambia en promedio {modelo_rl.coef_[idx]:.2f}\")"
   ]
  },
  {
   "cell_type": "code",
   "execution_count": 6,
   "id": "6d08f3c2",
   "metadata": {},
   "outputs": [
    {
     "data": {
      "text/html": [
       "<div>\n",
       "<style scoped>\n",
       "    .dataframe tbody tr th:only-of-type {\n",
       "        vertical-align: middle;\n",
       "    }\n",
       "\n",
       "    .dataframe tbody tr th {\n",
       "        vertical-align: top;\n",
       "    }\n",
       "\n",
       "    .dataframe thead th {\n",
       "        text-align: right;\n",
       "    }\n",
       "</style>\n",
       "<table border=\"1\" class=\"dataframe\">\n",
       "  <thead>\n",
       "    <tr style=\"text-align: right;\">\n",
       "      <th></th>\n",
       "      <th>posesion_local (%)</th>\n",
       "      <th>tiros_arco_local</th>\n",
       "      <th>diferencia_goles_real</th>\n",
       "      <th>diferencia_goles_pred</th>\n",
       "    </tr>\n",
       "  </thead>\n",
       "  <tbody>\n",
       "    <tr>\n",
       "      <th>83</th>\n",
       "      <td>47</td>\n",
       "      <td>3</td>\n",
       "      <td>3</td>\n",
       "      <td>-0.05</td>\n",
       "    </tr>\n",
       "    <tr>\n",
       "      <th>53</th>\n",
       "      <td>60</td>\n",
       "      <td>3</td>\n",
       "      <td>3</td>\n",
       "      <td>0.68</td>\n",
       "    </tr>\n",
       "    <tr>\n",
       "      <th>70</th>\n",
       "      <td>50</td>\n",
       "      <td>5</td>\n",
       "      <td>0</td>\n",
       "      <td>0.02</td>\n",
       "    </tr>\n",
       "    <tr>\n",
       "      <th>45</th>\n",
       "      <td>57</td>\n",
       "      <td>7</td>\n",
       "      <td>3</td>\n",
       "      <td>0.31</td>\n",
       "    </tr>\n",
       "    <tr>\n",
       "      <th>44</th>\n",
       "      <td>45</td>\n",
       "      <td>5</td>\n",
       "      <td>5</td>\n",
       "      <td>-0.26</td>\n",
       "    </tr>\n",
       "    <tr>\n",
       "      <th>39</th>\n",
       "      <td>60</td>\n",
       "      <td>7</td>\n",
       "      <td>3</td>\n",
       "      <td>0.47</td>\n",
       "    </tr>\n",
       "    <tr>\n",
       "      <th>22</th>\n",
       "      <td>45</td>\n",
       "      <td>11</td>\n",
       "      <td>0</td>\n",
       "      <td>-0.57</td>\n",
       "    </tr>\n",
       "    <tr>\n",
       "      <th>80</th>\n",
       "      <td>49</td>\n",
       "      <td>5</td>\n",
       "      <td>1</td>\n",
       "      <td>-0.04</td>\n",
       "    </tr>\n",
       "    <tr>\n",
       "      <th>10</th>\n",
       "      <td>48</td>\n",
       "      <td>5</td>\n",
       "      <td>-2</td>\n",
       "      <td>-0.10</td>\n",
       "    </tr>\n",
       "    <tr>\n",
       "      <th>0</th>\n",
       "      <td>54</td>\n",
       "      <td>12</td>\n",
       "      <td>2</td>\n",
       "      <td>-0.12</td>\n",
       "    </tr>\n",
       "  </tbody>\n",
       "</table>\n",
       "</div>"
      ],
      "text/plain": [
       "    posesion_local (%)  tiros_arco_local  diferencia_goles_real  \\\n",
       "83                  47                 3                      3   \n",
       "53                  60                 3                      3   \n",
       "70                  50                 5                      0   \n",
       "45                  57                 7                      3   \n",
       "44                  45                 5                      5   \n",
       "39                  60                 7                      3   \n",
       "22                  45                11                      0   \n",
       "80                  49                 5                      1   \n",
       "10                  48                 5                     -2   \n",
       "0                   54                12                      2   \n",
       "\n",
       "    diferencia_goles_pred  \n",
       "83                  -0.05  \n",
       "53                   0.68  \n",
       "70                   0.02  \n",
       "45                   0.31  \n",
       "44                  -0.26  \n",
       "39                   0.47  \n",
       "22                  -0.57  \n",
       "80                  -0.04  \n",
       "10                  -0.10  \n",
       "0                   -0.12  "
      ]
     },
     "execution_count": 6,
     "metadata": {},
     "output_type": "execute_result"
    }
   ],
   "source": [
    "#Hacer predicciones\n",
    "y_pred = modelo_rl.predict(X_test)\n",
    "\n",
    "#Comparar predicciones vs valores reales\n",
    "df_resultados = X_test.copy()\n",
    "df_resultados['diferencia_goles_real'] = y_test\n",
    "df_resultados['diferencia_goles_pred'] = y_pred.round(2)\n",
    "\n",
    "df_resultados.head(10)"
   ]
  },
  {
   "cell_type": "code",
   "execution_count": 10,
   "id": "724eafae",
   "metadata": {},
   "outputs": [
    {
     "data": {
      "image/png": "[encoded data removed]",
      "text/plain": [
       "<Figure size 1000x600 with 1 Axes>"
      ]
     },
     "metadata": {},
     "output_type": "display_data"
    }
   ],
   "source": [
    "import matplotlib.pyplot as plt\n",
    "import seaborn as sns\n",
    "\n",
    "#Crear grafico de dispersión\n",
    "plt.figure(figsize=(10, 6))\n",
    "sns.scatterplot(x=y_test, y=y_pred)\n",
    "plt.axline((0,0), slope=1, color='red', linestyle='--')  # Línea de referencia\n",
    "plt.title('Predicciones vs Valores Reales')\n",
    "plt.xlabel('Diferencia de Goles Real')\n",
    "plt.ylabel('Diferencia de Goles Predicha')\n",
    "plt.grid()\n",
    "plt.show()"
   ]
  },
  {
   "cell_type": "code",
   "execution_count": 14,
   "id": "ce4f71b7",
   "metadata": {},
   "outputs": [
    {
     "data": {
      "application/vnd.jupyter.widget-view+json": {
       "model_id": "d2e5f835c54e4bd8a0a557c7b381862a",
       "version_major": 2,
       "version_minor": 0
      },
      "text/plain": [
       "FloatSlider(value=50.0, description='Posesión Local (%)', step=1.0)"
      ]
     },
     "metadata": {},
     "output_type": "display_data"
    },
    {
     "data": {
      "application/vnd.jupyter.widget-view+json": {
       "model_id": "bbecf69dbe4f4e5c976b23219dd844a2",
       "version_major": 2,
       "version_minor": 0
      },
      "text/plain": [
       "FloatSlider(value=10.0, description='Tiros al Arco Local', max=30.0, step=1.0)"
      ]
     },
     "metadata": {},
     "output_type": "display_data"
    },
    {
     "data": {
      "application/vnd.jupyter.widget-view+json": {
       "model_id": "6f036e8a320e4c689d57df7f56f35b7d",
       "version_major": 2,
       "version_minor": 0
      },
      "text/plain": [
       "interactive(children=(FloatSlider(value=50.0, description='Posesión Local (%)', step=1.0), FloatSlider(value=1…"
      ]
     },
     "metadata": {},
     "output_type": "display_data"
    }
   ],
   "source": [
    "import ipywidgets as widgets\n",
    "\n",
    "#Widget de entrada\n",
    "posesion_input = widgets.FloatSlider(min=30, max=70, step=1, description='Posesion (%)')\n",
    "tiros_input = widgets.IntSlider(min=0, max=15, step=1,description='Tiros al Arco')\n",
    "\n",
    "#Funcion de prediccion\n",
    "def predecir_goles(posesion, tiros):\n",
    "    #Crear dataframe con nombres de columnas esperados por el modelo\n",
    "    entrada = pd.DataFrame([[posesion, tiros]], columns=['posesion_local (%)', 'tiros_arco_local'])\n",
    "    pred = modelo_rl.predict(entrada)[0]\n",
    "    print(f\"Predicción de diferencia de goles: {pred:.2f}\")\n",
    "\n",
    "#Mostrar widget interactivo\n",
    "widgets.interactive(predecir_goles, posesion=posesion_input, tiros=tiros_input)\n",
    "poesion_input = widgets.FloatSlider(value=50, min=0, max=100, step=1, description='Posesión Local (%)')\n",
    "tiros_input = widgets.FloatSlider(value=10, min=0, max=30, step=1, description='Tiros al Arco Local')\n",
    "display(poesion_input, tiros_input)\n",
    "display(widgets.interactive(predecir_goles, posesion=poesion_input, tiros=tiros_input))"
   ]
  }
 ],
 "metadata": {
  "kernelspec": {
   "display_name": "CurFundMaLearn",
   "language": "python",
   "name": "python3"
  },
  "language_info": {
   "codemirror_mode": {
    "name": "ipython",
    "version": 3
   },
   "file_extension": ".py",
   "mimetype": "text/x-python",
   "name": "python",
   "nbconvert_exporter": "python",
   "pygments_lexer": "ipython3",
   "version": "3.13.5"
  }
 },
 "nbformat": 4,
 "nbformat_minor": 5
}
